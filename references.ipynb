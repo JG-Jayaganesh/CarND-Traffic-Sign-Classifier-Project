{
 "cells": [
  {
   "cell_type": "code",
   "execution_count": null,
   "metadata": {
    "collapsed": true
   },
   "outputs": [],
   "source": [
    "import numpy as np\n",
    "import imgaug as ia\n",
    "from imgaug import augmenters as iaa\n",
    "\n",
    "# Augment training data\n",
    "def augment_training_data(images, labels):\n",
    "\n",
    "    expanded_images = []\n",
    "    expanded_labels = []\n",
    "\n",
    "    j = 0 # counter\n",
    "    for x, y in zip(images, labels):\n",
    "        j = j+1\n",
    "        if j%500==0:\n",
    "            print ('expanding data : %03d / %03d' % (j,np.size(images,0)))\n",
    "        \n",
    "        # register original data\n",
    "        expanded_images.append(x)\n",
    "        expanded_labels.append(y)\n",
    "        \n",
    "        new_img_ = seq.augment_images(x)\n",
    "        \n",
    "        # register new training data\n",
    "        expanded_images.append(new_img_)\n",
    "        expanded_labels.append(y)\n",
    "               \n",
    "    return expanded_images, expanded_labels "
   ]
  },
  {
   "cell_type": "code",
   "execution_count": 11,
   "metadata": {},
   "outputs": [
    {
     "ename": "NameError",
     "evalue": "name 'load_batch' is not defined",
     "output_type": "error",
     "traceback": [
      "\u001b[0;31m---------------------------------------------------------------------------\u001b[0m",
      "\u001b[0;31mNameError\u001b[0m                                 Traceback (most recent call last)",
      "\u001b[0;32m<ipython-input-11-539fd0977b32>\u001b[0m in \u001b[0;36m<module>\u001b[0;34m()\u001b[0m\n\u001b[1;32m     13\u001b[0m     \u001b[0;31m# All images must have numpy's dtype uint8. Values are expected to be in\u001b[0m\u001b[0;34m\u001b[0m\u001b[0;34m\u001b[0m\u001b[0m\n\u001b[1;32m     14\u001b[0m     \u001b[0;31m# range 0-255.\u001b[0m\u001b[0;34m\u001b[0m\u001b[0;34m\u001b[0m\u001b[0m\n\u001b[0;32m---> 15\u001b[0;31m     \u001b[0mimages\u001b[0m \u001b[0;34m=\u001b[0m \u001b[0mload_batch\u001b[0m\u001b[0;34m(\u001b[0m\u001b[0mbatch_idx\u001b[0m\u001b[0;34m)\u001b[0m\u001b[0;34m\u001b[0m\u001b[0m\n\u001b[0m\u001b[1;32m     16\u001b[0m     \u001b[0mimages_aug\u001b[0m \u001b[0;34m=\u001b[0m \u001b[0mseq\u001b[0m\u001b[0;34m.\u001b[0m\u001b[0maugment_images\u001b[0m\u001b[0;34m(\u001b[0m\u001b[0mimages\u001b[0m\u001b[0;34m)\u001b[0m\u001b[0;34m\u001b[0m\u001b[0m\n\u001b[1;32m     17\u001b[0m     \u001b[0mtrain_on_images\u001b[0m\u001b[0;34m(\u001b[0m\u001b[0mimages_aug\u001b[0m\u001b[0;34m)\u001b[0m\u001b[0;34m\u001b[0m\u001b[0m\n",
      "\u001b[0;31mNameError\u001b[0m: name 'load_batch' is not defined"
     ]
    }
   ],
   "source": [
    "from imgaug import augmenters as iaa\n",
    "\n",
    "seq = iaa.Sequential([\n",
    "    iaa.Crop(px=(0, 16)), # crop images from each side by 0 to 16px (randomly chosen)\n",
    "    iaa.Fliplr(0.5), # horizontally flip 50% of the images\n",
    "    iaa.GaussianBlur(sigma=(0, 3.0)) # blur images with a sigma of 0 to 3.0\n",
    "])\n",
    "\n",
    "for batch_idx in range(1000):\n",
    "    # 'images' should be either a 4D numpy array of shape (N, height, width, channels)\n",
    "    # or a list of 3D numpy arrays, each having shape (height, width, channels).\n",
    "    # Grayscale images must have shape (height, width, 1) each.\n",
    "    # All images must have numpy's dtype uint8. Values are expected to be in\n",
    "    # range 0-255.\n",
    "    images = load_batch(batch_idx)\n",
    "    images_aug = seq.augment_images(images)\n",
    "    train_on_images(images_aug)"
   ]
  },
  {
   "cell_type": "code",
   "execution_count": 13,
   "metadata": {},
   "outputs": [
    {
     "name": "stdout",
     "output_type": "stream",
     "text": [
      "Next batch...\n",
      "Image IDs:  [(1, 0), (1, 1), (1, 2), (1, 3)]\n"
     ]
    },
    {
     "ename": "RuntimeError",
     "evalue": "Could not execute image viewer.",
     "output_type": "error",
     "traceback": [
      "\u001b[0;31m---------------------------------------------------------------------------\u001b[0m",
      "\u001b[0;31mRuntimeError\u001b[0m                              Traceback (most recent call last)",
      "\u001b[0;32m<ipython-input-13-383658250f6d>\u001b[0m in \u001b[0;36m<module>\u001b[0;34m()\u001b[0m\n\u001b[1;32m     68\u001b[0m     \u001b[0mprint\u001b[0m\u001b[0;34m(\u001b[0m\u001b[0;34m\"Image IDs: \"\u001b[0m\u001b[0;34m,\u001b[0m \u001b[0mbatch\u001b[0m\u001b[0;34m.\u001b[0m\u001b[0mdata\u001b[0m\u001b[0;34m)\u001b[0m\u001b[0;34m\u001b[0m\u001b[0m\n\u001b[1;32m     69\u001b[0m \u001b[0;34m\u001b[0m\u001b[0m\n\u001b[0;32m---> 70\u001b[0;31m     \u001b[0mmisc\u001b[0m\u001b[0;34m.\u001b[0m\u001b[0mimshow\u001b[0m\u001b[0;34m(\u001b[0m\u001b[0mnp\u001b[0m\u001b[0;34m.\u001b[0m\u001b[0mhstack\u001b[0m\u001b[0;34m(\u001b[0m\u001b[0mlist\u001b[0m\u001b[0;34m(\u001b[0m\u001b[0mimages_aug\u001b[0m\u001b[0;34m)\u001b[0m\u001b[0;34m)\u001b[0m\u001b[0;34m)\u001b[0m\u001b[0;34m\u001b[0m\u001b[0m\n\u001b[0m\u001b[1;32m     71\u001b[0m \u001b[0;34m\u001b[0m\u001b[0m\n\u001b[1;32m     72\u001b[0m \u001b[0mbatch_loader\u001b[0m\u001b[0;34m.\u001b[0m\u001b[0mterminate\u001b[0m\u001b[0;34m(\u001b[0m\u001b[0;34m)\u001b[0m\u001b[0;34m\u001b[0m\u001b[0m\n",
      "\u001b[0;32m/home/carnd/anaconda3/envs/carnd-term1/lib/python3.5/site-packages/scipy/misc/pilutil.py\u001b[0m in \u001b[0;36mimshow\u001b[0;34m(arr)\u001b[0m\n\u001b[1;32m    443\u001b[0m     \u001b[0mos\u001b[0m\u001b[0;34m.\u001b[0m\u001b[0munlink\u001b[0m\u001b[0;34m(\u001b[0m\u001b[0mfname\u001b[0m\u001b[0;34m)\u001b[0m\u001b[0;34m\u001b[0m\u001b[0m\n\u001b[1;32m    444\u001b[0m     \u001b[0;32mif\u001b[0m \u001b[0mstatus\u001b[0m \u001b[0;34m!=\u001b[0m \u001b[0;36m0\u001b[0m\u001b[0;34m:\u001b[0m\u001b[0;34m\u001b[0m\u001b[0m\n\u001b[0;32m--> 445\u001b[0;31m         \u001b[0;32mraise\u001b[0m \u001b[0mRuntimeError\u001b[0m\u001b[0;34m(\u001b[0m\u001b[0;34m'Could not execute image viewer.'\u001b[0m\u001b[0;34m)\u001b[0m\u001b[0;34m\u001b[0m\u001b[0m\n\u001b[0m\u001b[1;32m    446\u001b[0m \u001b[0;34m\u001b[0m\u001b[0m\n\u001b[1;32m    447\u001b[0m \u001b[0;34m\u001b[0m\u001b[0m\n",
      "\u001b[0;31mRuntimeError\u001b[0m: Could not execute image viewer."
     ]
    }
   ],
   "source": [
    "import imgaug as ia\n",
    "from imgaug import augmenters as iaa\n",
    "import numpy as np\n",
    "from skimage import data\n",
    "from scipy import misc\n",
    "\n",
    "# Example augmentation sequence to run in the background.\n",
    "augseq = iaa.Sequential([\n",
    "    iaa.Fliplr(0.5),\n",
    "    iaa.CoarseDropout(p=0.1, size_percent=0.1)\n",
    "])\n",
    "\n",
    "# A generator that loads batches from the hard drive.\n",
    "def load_batches():\n",
    "    # Here, load 10 batches of size 4 each.\n",
    "    # You can also load an infinite amount of batches, if you don't train\n",
    "    # in epochs.\n",
    "    batch_size = 4\n",
    "    nb_batches = 10\n",
    "\n",
    "    # Here, for simplicity we just always use the same image.\n",
    "    astronaut = data.astronaut()\n",
    "    astronaut = ia.imresize_single_image(astronaut, (64, 64))\n",
    "\n",
    "    for i in range(nb_batches):\n",
    "        # A list containing all images of the batch.\n",
    "        batch_images = []\n",
    "        # A list containing IDs of images in the batch. This is not necessary\n",
    "        # for the background augmentation and here just used to showcase that\n",
    "        # you can transfer additional information.\n",
    "        batch_data = []\n",
    "\n",
    "        # Add some images to the batch.\n",
    "        for b in range(batch_size):\n",
    "            batch_images.append(astronaut)\n",
    "            batch_data.append((i, b))\n",
    "\n",
    "        # Create the batch object to send to the background processes.\n",
    "        batch = ia.Batch(\n",
    "            images=np.array(batch_images, dtype=np.uint8),\n",
    "            data=batch_data\n",
    "        )\n",
    "\n",
    "        yield batch\n",
    "\n",
    "# background augmentation consists of two components:\n",
    "#  (1) BatchLoader, which runs in a Thread and calls repeatedly a user-defined\n",
    "#      function (here: load_batches) to load batches (optionally with keypoints\n",
    "#      and additional information) and sends them to a queue of batches.\n",
    "#  (2) BackgroundAugmenter, which runs several background processes (on other\n",
    "#      CPU cores). Each process takes batches from the queue defined by (1),\n",
    "#      augments images/keypoints and sends them to another queue.\n",
    "# The main process can then read augmented batches from the queue defined\n",
    "# by (2).\n",
    "batch_loader = ia.BatchLoader(load_batches)\n",
    "bg_augmenter = ia.BackgroundAugmenter(batch_loader, augseq)\n",
    "\n",
    "# Run until load_batches() returns nothing anymore. This also allows infinite\n",
    "# training.\n",
    "while True:\n",
    "    print(\"Next batch...\")\n",
    "    batch = bg_augmenter.get_batch()\n",
    "    if batch is None:\n",
    "        print(\"Finished epoch.\")\n",
    "        break\n",
    "    images_aug = batch.images_aug\n",
    "\n",
    "    print(\"Image IDs: \", batch.data)\n",
    "\n",
    "    misc.imshow(np.hstack(list(images_aug)))\n",
    "\n",
    "batch_loader.terminate()\n",
    "bg_augmenter.terminate()"
   ]
  },
  {
   "cell_type": "code",
   "execution_count": null,
   "metadata": {
    "collapsed": true
   },
   "outputs": [],
   "source": []
  }
 ],
 "metadata": {
  "kernelspec": {
   "display_name": "Python 3",
   "language": "python",
   "name": "python3"
  },
  "language_info": {
   "codemirror_mode": {
    "name": "ipython",
    "version": 3
   },
   "file_extension": ".py",
   "mimetype": "text/x-python",
   "name": "python",
   "nbconvert_exporter": "python",
   "pygments_lexer": "ipython3",
   "version": "3.5.2"
  },
  "widgets": {
   "state": {},
   "version": "1.1.2"
  }
 },
 "nbformat": 4,
 "nbformat_minor": 2
}
